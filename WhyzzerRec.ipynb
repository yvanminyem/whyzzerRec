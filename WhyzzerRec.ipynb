{
  "nbformat": 4,
  "nbformat_minor": 0,
  "metadata": {
    "colab": {
      "name": "WhyzzerRec.ipynb",
      "provenance": [],
      "machine_shape": "hm",
      "mount_file_id": "https://github.com/yvanminyem/whyzzerRec/blob/main/WhyzzerRec.ipynb",
      "authorship_tag": "ABX9TyNAe9BuA2k9001gk/msO1de",
      "include_colab_link": true
    },
    "kernelspec": {
      "name": "python3",
      "display_name": "Python 3"
    },
    "language_info": {
      "name": "python"
    }
  },
  "cells": [
    {
      "cell_type": "markdown",
      "metadata": {
        "id": "view-in-github",
        "colab_type": "text"
      },
      "source": [
        "<a href=\"https://colab.research.google.com/github/yvanminyem/whyzzerRec/blob/main/WhyzzerRec.ipynb\" target=\"_parent\"><img src=\"https://colab.research.google.com/assets/colab-badge.svg\" alt=\"Open In Colab\"/></a>"
      ]
    },
    {
      "cell_type": "code",
      "metadata": {
        "colab": {
          "base_uri": "https://localhost:8080/"
        },
        "id": "U8vJgvCcJLAJ",
        "outputId": "1d2545b0-b09a-47a7-8997-5f2a11e072df"
      },
      "source": [
        "!pip install -q tensorflow-recommenders\n",
        "!pip install -q --upgrade tensorflow-datasets"
      ],
      "execution_count": 1,
      "outputs": [
        {
          "output_type": "stream",
          "text": [
            "\u001b[K     |████████████████████████████████| 85 kB 2.8 MB/s \n",
            "\u001b[K     |████████████████████████████████| 4.0 MB 14.5 MB/s \n",
            "\u001b[?25h"
          ],
          "name": "stdout"
        }
      ]
    },
    {
      "cell_type": "markdown",
      "metadata": {
        "id": "w0VxgU3kJb4A"
      },
      "source": [
        "importing different necessary packages"
      ]
    },
    {
      "cell_type": "code",
      "metadata": {
        "id": "oD46ha43JbK5"
      },
      "source": [
        "import os\n",
        "import tempfile\n",
        "\n",
        "from google.colab import files\n",
        "\n",
        "%matplotlib inline\n",
        "import matplotlib.pyplot as plt\n",
        "\n",
        "import numpy as np\n",
        "import tensorflow as tf\n",
        "import keras\n",
        "import tensorflow_datasets as tfds\n",
        "\n",
        "import tensorflow_recommenders as tfrs\n",
        "\n",
        "plt.style.use('seaborn-whitegrid')"
      ],
      "execution_count": 2,
      "outputs": []
    },
    {
      "cell_type": "markdown",
      "metadata": {
        "id": "nGVoR9oTNJ7c"
      },
      "source": [
        "Access bigquery data from collab"
      ]
    },
    {
      "cell_type": "code",
      "metadata": {
        "colab": {
          "resources": {
            "http://localhost:8080/nbextensions/google.colab/files.js": {
              "data": "Ly8gQ29weXJpZ2h0IDIwMTcgR29vZ2xlIExMQwovLwovLyBMaWNlbnNlZCB1bmRlciB0aGUgQXBhY2hlIExpY2Vuc2UsIFZlcnNpb24gMi4wICh0aGUgIkxpY2Vuc2UiKTsKLy8geW91IG1heSBub3QgdXNlIHRoaXMgZmlsZSBleGNlcHQgaW4gY29tcGxpYW5jZSB3aXRoIHRoZSBMaWNlbnNlLgovLyBZb3UgbWF5IG9idGFpbiBhIGNvcHkgb2YgdGhlIExpY2Vuc2UgYXQKLy8KLy8gICAgICBodHRwOi8vd3d3LmFwYWNoZS5vcmcvbGljZW5zZXMvTElDRU5TRS0yLjAKLy8KLy8gVW5sZXNzIHJlcXVpcmVkIGJ5IGFwcGxpY2FibGUgbGF3IG9yIGFncmVlZCB0byBpbiB3cml0aW5nLCBzb2Z0d2FyZQovLyBkaXN0cmlidXRlZCB1bmRlciB0aGUgTGljZW5zZSBpcyBkaXN0cmlidXRlZCBvbiBhbiAiQVMgSVMiIEJBU0lTLAovLyBXSVRIT1VUIFdBUlJBTlRJRVMgT1IgQ09ORElUSU9OUyBPRiBBTlkgS0lORCwgZWl0aGVyIGV4cHJlc3Mgb3IgaW1wbGllZC4KLy8gU2VlIHRoZSBMaWNlbnNlIGZvciB0aGUgc3BlY2lmaWMgbGFuZ3VhZ2UgZ292ZXJuaW5nIHBlcm1pc3Npb25zIGFuZAovLyBsaW1pdGF0aW9ucyB1bmRlciB0aGUgTGljZW5zZS4KCi8qKgogKiBAZmlsZW92ZXJ2aWV3IEhlbHBlcnMgZm9yIGdvb2dsZS5jb2xhYiBQeXRob24gbW9kdWxlLgogKi8KKGZ1bmN0aW9uKHNjb3BlKSB7CmZ1bmN0aW9uIHNwYW4odGV4dCwgc3R5bGVBdHRyaWJ1dGVzID0ge30pIHsKICBjb25zdCBlbGVtZW50ID0gZG9jdW1lbnQuY3JlYXRlRWxlbWVudCgnc3BhbicpOwogIGVsZW1lbnQudGV4dENvbnRlbnQgPSB0ZXh0OwogIGZvciAoY29uc3Qga2V5IG9mIE9iamVjdC5rZXlzKHN0eWxlQXR0cmlidXRlcykpIHsKICAgIGVsZW1lbnQuc3R5bGVba2V5XSA9IHN0eWxlQXR0cmlidXRlc1trZXldOwogIH0KICByZXR1cm4gZWxlbWVudDsKfQoKLy8gTWF4IG51bWJlciBvZiBieXRlcyB3aGljaCB3aWxsIGJlIHVwbG9hZGVkIGF0IGEgdGltZS4KY29uc3QgTUFYX1BBWUxPQURfU0laRSA9IDEwMCAqIDEwMjQ7CgpmdW5jdGlvbiBfdXBsb2FkRmlsZXMoaW5wdXRJZCwgb3V0cHV0SWQpIHsKICBjb25zdCBzdGVwcyA9IHVwbG9hZEZpbGVzU3RlcChpbnB1dElkLCBvdXRwdXRJZCk7CiAgY29uc3Qgb3V0cHV0RWxlbWVudCA9IGRvY3VtZW50LmdldEVsZW1lbnRCeUlkKG91dHB1dElkKTsKICAvLyBDYWNoZSBzdGVwcyBvbiB0aGUgb3V0cHV0RWxlbWVudCB0byBtYWtlIGl0IGF2YWlsYWJsZSBmb3IgdGhlIG5leHQgY2FsbAogIC8vIHRvIHVwbG9hZEZpbGVzQ29udGludWUgZnJvbSBQeXRob24uCiAgb3V0cHV0RWxlbWVudC5zdGVwcyA9IHN0ZXBzOwoKICByZXR1cm4gX3VwbG9hZEZpbGVzQ29udGludWUob3V0cHV0SWQpOwp9CgovLyBUaGlzIGlzIHJvdWdobHkgYW4gYXN5bmMgZ2VuZXJhdG9yIChub3Qgc3VwcG9ydGVkIGluIHRoZSBicm93c2VyIHlldCksCi8vIHdoZXJlIHRoZXJlIGFyZSBtdWx0aXBsZSBhc3luY2hyb25vdXMgc3RlcHMgYW5kIHRoZSBQeXRob24gc2lkZSBpcyBnb2luZwovLyB0byBwb2xsIGZvciBjb21wbGV0aW9uIG9mIGVhY2ggc3RlcC4KLy8gVGhpcyB1c2VzIGEgUHJvbWlzZSB0byBibG9jayB0aGUgcHl0aG9uIHNpZGUgb24gY29tcGxldGlvbiBvZiBlYWNoIHN0ZXAsCi8vIHRoZW4gcGFzc2VzIHRoZSByZXN1bHQgb2YgdGhlIHByZXZpb3VzIHN0ZXAgYXMgdGhlIGlucHV0IHRvIHRoZSBuZXh0IHN0ZXAuCmZ1bmN0aW9uIF91cGxvYWRGaWxlc0NvbnRpbnVlKG91dHB1dElkKSB7CiAgY29uc3Qgb3V0cHV0RWxlbWVudCA9IGRvY3VtZW50LmdldEVsZW1lbnRCeUlkKG91dHB1dElkKTsKICBjb25zdCBzdGVwcyA9IG91dHB1dEVsZW1lbnQuc3RlcHM7CgogIGNvbnN0IG5leHQgPSBzdGVwcy5uZXh0KG91dHB1dEVsZW1lbnQubGFzdFByb21pc2VWYWx1ZSk7CiAgcmV0dXJuIFByb21pc2UucmVzb2x2ZShuZXh0LnZhbHVlLnByb21pc2UpLnRoZW4oKHZhbHVlKSA9PiB7CiAgICAvLyBDYWNoZSB0aGUgbGFzdCBwcm9taXNlIHZhbHVlIHRvIG1ha2UgaXQgYXZhaWxhYmxlIHRvIHRoZSBuZXh0CiAgICAvLyBzdGVwIG9mIHRoZSBnZW5lcmF0b3IuCiAgICBvdXRwdXRFbGVtZW50Lmxhc3RQcm9taXNlVmFsdWUgPSB2YWx1ZTsKICAgIHJldHVybiBuZXh0LnZhbHVlLnJlc3BvbnNlOwogIH0pOwp9CgovKioKICogR2VuZXJhdG9yIGZ1bmN0aW9uIHdoaWNoIGlzIGNhbGxlZCBiZXR3ZWVuIGVhY2ggYXN5bmMgc3RlcCBvZiB0aGUgdXBsb2FkCiAqIHByb2Nlc3MuCiAqIEBwYXJhbSB7c3RyaW5nfSBpbnB1dElkIEVsZW1lbnQgSUQgb2YgdGhlIGlucHV0IGZpbGUgcGlja2VyIGVsZW1lbnQuCiAqIEBwYXJhbSB7c3RyaW5nfSBvdXRwdXRJZCBFbGVtZW50IElEIG9mIHRoZSBvdXRwdXQgZGlzcGxheS4KICogQHJldHVybiB7IUl0ZXJhYmxlPCFPYmplY3Q+fSBJdGVyYWJsZSBvZiBuZXh0IHN0ZXBzLgogKi8KZnVuY3Rpb24qIHVwbG9hZEZpbGVzU3RlcChpbnB1dElkLCBvdXRwdXRJZCkgewogIGNvbnN0IGlucHV0RWxlbWVudCA9IGRvY3VtZW50LmdldEVsZW1lbnRCeUlkKGlucHV0SWQpOwogIGlucHV0RWxlbWVudC5kaXNhYmxlZCA9IGZhbHNlOwoKICBjb25zdCBvdXRwdXRFbGVtZW50ID0gZG9jdW1lbnQuZ2V0RWxlbWVudEJ5SWQob3V0cHV0SWQpOwogIG91dHB1dEVsZW1lbnQuaW5uZXJIVE1MID0gJyc7CgogIGNvbnN0IHBpY2tlZFByb21pc2UgPSBuZXcgUHJvbWlzZSgocmVzb2x2ZSkgPT4gewogICAgaW5wdXRFbGVtZW50LmFkZEV2ZW50TGlzdGVuZXIoJ2NoYW5nZScsIChlKSA9PiB7CiAgICAgIHJlc29sdmUoZS50YXJnZXQuZmlsZXMpOwogICAgfSk7CiAgfSk7CgogIGNvbnN0IGNhbmNlbCA9IGRvY3VtZW50LmNyZWF0ZUVsZW1lbnQoJ2J1dHRvbicpOwogIGlucHV0RWxlbWVudC5wYXJlbnRFbGVtZW50LmFwcGVuZENoaWxkKGNhbmNlbCk7CiAgY2FuY2VsLnRleHRDb250ZW50ID0gJ0NhbmNlbCB1cGxvYWQnOwogIGNvbnN0IGNhbmNlbFByb21pc2UgPSBuZXcgUHJvbWlzZSgocmVzb2x2ZSkgPT4gewogICAgY2FuY2VsLm9uY2xpY2sgPSAoKSA9PiB7CiAgICAgIHJlc29sdmUobnVsbCk7CiAgICB9OwogIH0pOwoKICAvLyBXYWl0IGZvciB0aGUgdXNlciB0byBwaWNrIHRoZSBmaWxlcy4KICBjb25zdCBmaWxlcyA9IHlpZWxkIHsKICAgIHByb21pc2U6IFByb21pc2UucmFjZShbcGlja2VkUHJvbWlzZSwgY2FuY2VsUHJvbWlzZV0pLAogICAgcmVzcG9uc2U6IHsKICAgICAgYWN0aW9uOiAnc3RhcnRpbmcnLAogICAgfQogIH07CgogIGNhbmNlbC5yZW1vdmUoKTsKCiAgLy8gRGlzYWJsZSB0aGUgaW5wdXQgZWxlbWVudCBzaW5jZSBmdXJ0aGVyIHBpY2tzIGFyZSBub3QgYWxsb3dlZC4KICBpbnB1dEVsZW1lbnQuZGlzYWJsZWQgPSB0cnVlOwoKICBpZiAoIWZpbGVzKSB7CiAgICByZXR1cm4gewogICAgICByZXNwb25zZTogewogICAgICAgIGFjdGlvbjogJ2NvbXBsZXRlJywKICAgICAgfQogICAgfTsKICB9CgogIGZvciAoY29uc3QgZmlsZSBvZiBmaWxlcykgewogICAgY29uc3QgbGkgPSBkb2N1bWVudC5jcmVhdGVFbGVtZW50KCdsaScpOwogICAgbGkuYXBwZW5kKHNwYW4oZmlsZS5uYW1lLCB7Zm9udFdlaWdodDogJ2JvbGQnfSkpOwogICAgbGkuYXBwZW5kKHNwYW4oCiAgICAgICAgYCgke2ZpbGUudHlwZSB8fCAnbi9hJ30pIC0gJHtmaWxlLnNpemV9IGJ5dGVzLCBgICsKICAgICAgICBgbGFzdCBtb2RpZmllZDogJHsKICAgICAgICAgICAgZmlsZS5sYXN0TW9kaWZpZWREYXRlID8gZmlsZS5sYXN0TW9kaWZpZWREYXRlLnRvTG9jYWxlRGF0ZVN0cmluZygpIDoKICAgICAgICAgICAgICAgICAgICAgICAgICAgICAgICAgICAgJ24vYSd9IC0gYCkpOwogICAgY29uc3QgcGVyY2VudCA9IHNwYW4oJzAlIGRvbmUnKTsKICAgIGxpLmFwcGVuZENoaWxkKHBlcmNlbnQpOwoKICAgIG91dHB1dEVsZW1lbnQuYXBwZW5kQ2hpbGQobGkpOwoKICAgIGNvbnN0IGZpbGVEYXRhUHJvbWlzZSA9IG5ldyBQcm9taXNlKChyZXNvbHZlKSA9PiB7CiAgICAgIGNvbnN0IHJlYWRlciA9IG5ldyBGaWxlUmVhZGVyKCk7CiAgICAgIHJlYWRlci5vbmxvYWQgPSAoZSkgPT4gewogICAgICAgIHJlc29sdmUoZS50YXJnZXQucmVzdWx0KTsKICAgICAgfTsKICAgICAgcmVhZGVyLnJlYWRBc0FycmF5QnVmZmVyKGZpbGUpOwogICAgfSk7CiAgICAvLyBXYWl0IGZvciB0aGUgZGF0YSB0byBiZSByZWFkeS4KICAgIGxldCBmaWxlRGF0YSA9IHlpZWxkIHsKICAgICAgcHJvbWlzZTogZmlsZURhdGFQcm9taXNlLAogICAgICByZXNwb25zZTogewogICAgICAgIGFjdGlvbjogJ2NvbnRpbnVlJywKICAgICAgfQogICAgfTsKCiAgICAvLyBVc2UgYSBjaHVua2VkIHNlbmRpbmcgdG8gYXZvaWQgbWVzc2FnZSBzaXplIGxpbWl0cy4gU2VlIGIvNjIxMTU2NjAuCiAgICBsZXQgcG9zaXRpb24gPSAwOwogICAgZG8gewogICAgICBjb25zdCBsZW5ndGggPSBNYXRoLm1pbihmaWxlRGF0YS5ieXRlTGVuZ3RoIC0gcG9zaXRpb24sIE1BWF9QQVlMT0FEX1NJWkUpOwogICAgICBjb25zdCBjaHVuayA9IG5ldyBVaW50OEFycmF5KGZpbGVEYXRhLCBwb3NpdGlvbiwgbGVuZ3RoKTsKICAgICAgcG9zaXRpb24gKz0gbGVuZ3RoOwoKICAgICAgY29uc3QgYmFzZTY0ID0gYnRvYShTdHJpbmcuZnJvbUNoYXJDb2RlLmFwcGx5KG51bGwsIGNodW5rKSk7CiAgICAgIHlpZWxkIHsKICAgICAgICByZXNwb25zZTogewogICAgICAgICAgYWN0aW9uOiAnYXBwZW5kJywKICAgICAgICAgIGZpbGU6IGZpbGUubmFtZSwKICAgICAgICAgIGRhdGE6IGJhc2U2NCwKICAgICAgICB9LAogICAgICB9OwoKICAgICAgbGV0IHBlcmNlbnREb25lID0gZmlsZURhdGEuYnl0ZUxlbmd0aCA9PT0gMCA/CiAgICAgICAgICAxMDAgOgogICAgICAgICAgTWF0aC5yb3VuZCgocG9zaXRpb24gLyBmaWxlRGF0YS5ieXRlTGVuZ3RoKSAqIDEwMCk7CiAgICAgIHBlcmNlbnQudGV4dENvbnRlbnQgPSBgJHtwZXJjZW50RG9uZX0lIGRvbmVgOwoKICAgIH0gd2hpbGUgKHBvc2l0aW9uIDwgZmlsZURhdGEuYnl0ZUxlbmd0aCk7CiAgfQoKICAvLyBBbGwgZG9uZS4KICB5aWVsZCB7CiAgICByZXNwb25zZTogewogICAgICBhY3Rpb246ICdjb21wbGV0ZScsCiAgICB9CiAgfTsKfQoKc2NvcGUuZ29vZ2xlID0gc2NvcGUuZ29vZ2xlIHx8IHt9OwpzY29wZS5nb29nbGUuY29sYWIgPSBzY29wZS5nb29nbGUuY29sYWIgfHwge307CnNjb3BlLmdvb2dsZS5jb2xhYi5fZmlsZXMgPSB7CiAgX3VwbG9hZEZpbGVzLAogIF91cGxvYWRGaWxlc0NvbnRpbnVlLAp9Owp9KShzZWxmKTsK",
              "ok": true,
              "headers": [
                [
                  "content-type",
                  "application/javascript"
                ]
              ],
              "status": 200,
              "status_text": ""
            }
          },
          "base_uri": "https://localhost:8080/",
          "height": 89
        },
        "id": "692tyGkCNJNE",
        "outputId": "c08d7211-bf9e-48fb-87e9-5a2a5d1680b0"
      },
      "source": [
        "uploaded = files.upload()\n",
        "\n",
        "for fn in uploaded.keys():\n",
        "  print('User uploaded file \"{name}\" with length {length} bytes'.format(\n",
        "      name=fn, length=len(uploaded[fn])))\n",
        "  with open('/content/' + fn, 'wb') as f:\n",
        "    f.write(uploaded[fn])\n",
        "  os.environ[\"GOOGLE_APPLICATION_CREDENTIALS\"]='/content/' + fn\n",
        "  projectID = fn.rsplit(\"-\", 1)[0]"
      ],
      "execution_count": 3,
      "outputs": [
        {
          "output_type": "display_data",
          "data": {
            "text/html": [
              "\n",
              "     <input type=\"file\" id=\"files-1dd8fbd4-15bd-4769-b67f-9af8eecc6b09\" name=\"files[]\" multiple disabled\n",
              "        style=\"border:none\" />\n",
              "     <output id=\"result-1dd8fbd4-15bd-4769-b67f-9af8eecc6b09\">\n",
              "      Upload widget is only available when the cell has been executed in the\n",
              "      current browser session. Please rerun this cell to enable.\n",
              "      </output>\n",
              "      <script src=\"/nbextensions/google.colab/files.js\"></script> "
            ],
            "text/plain": [
              "<IPython.core.display.HTML object>"
            ]
          },
          "metadata": {
            "tags": []
          }
        },
        {
          "output_type": "stream",
          "text": [
            "Saving whyzzerrecommender-dc1a91d72a11.json to whyzzerrecommender-dc1a91d72a11.json\n",
            "User uploaded file \"whyzzerrecommender-dc1a91d72a11.json\" with length 2323 bytes\n"
          ],
          "name": "stdout"
        }
      ]
    },
    {
      "cell_type": "markdown",
      "metadata": {
        "id": "f8uoQRtqTa-4"
      },
      "source": [
        "Enable bigquery Ipython magic"
      ]
    },
    {
      "cell_type": "code",
      "metadata": {
        "id": "6JpzZn7_Th4D"
      },
      "source": [
        "%reload_ext google.cloud.bigquery"
      ],
      "execution_count": 4,
      "outputs": []
    },
    {
      "cell_type": "markdown",
      "metadata": {
        "id": "oEIU9KCfVswp"
      },
      "source": [
        "extract the first 10 fields"
      ]
    },
    {
      "cell_type": "code",
      "metadata": {
        "id": "nWTRUgxBVsW-"
      },
      "source": [
        "%%bigquery analytics_test_import\n",
        "SELECT\n",
        "    *\n",
        "FROM `whyzzer.kaggledata`\n"
      ],
      "execution_count": 5,
      "outputs": []
    },
    {
      "cell_type": "code",
      "metadata": {
        "colab": {
          "base_uri": "https://localhost:8080/",
          "height": 1000
        },
        "id": "h72dntSTY7gf",
        "outputId": "0563af9d-3c40-4f42-fd45-4a7bc96b0f23"
      },
      "source": [
        "analytics_test_import"
      ],
      "execution_count": 6,
      "outputs": [
        {
          "output_type": "execute_result",
          "data": {
            "text/html": [
              "<div>\n",
              "<style scoped>\n",
              "    .dataframe tbody tr th:only-of-type {\n",
              "        vertical-align: middle;\n",
              "    }\n",
              "\n",
              "    .dataframe tbody tr th {\n",
              "        vertical-align: top;\n",
              "    }\n",
              "\n",
              "    .dataframe thead th {\n",
              "        text-align: right;\n",
              "    }\n",
              "</style>\n",
              "<table border=\"1\" class=\"dataframe\">\n",
              "  <thead>\n",
              "    <tr style=\"text-align: right;\">\n",
              "      <th></th>\n",
              "      <th>position</th>\n",
              "      <th>channel_id</th>\n",
              "      <th>channel_title</th>\n",
              "      <th>video_id</th>\n",
              "      <th>published_at</th>\n",
              "      <th>video_title</th>\n",
              "      <th>video_description</th>\n",
              "      <th>video_category_id</th>\n",
              "      <th>video_category_label</th>\n",
              "      <th>duration</th>\n",
              "      <th>duration_sec</th>\n",
              "      <th>dimension</th>\n",
              "      <th>definition</th>\n",
              "      <th>caption</th>\n",
              "      <th>licensed_content</th>\n",
              "      <th>view_count</th>\n",
              "      <th>like_count</th>\n",
              "      <th>dislike_count</th>\n",
              "      <th>favorite_count</th>\n",
              "      <th>comment_count</th>\n",
              "    </tr>\n",
              "  </thead>\n",
              "  <tbody>\n",
              "    <tr>\n",
              "      <th>0</th>\n",
              "      <td>4</td>\n",
              "      <td>UCSNeZleDn9c74yQc-EKnVTA</td>\n",
              "      <td>Kaggle</td>\n",
              "      <td>8WlhQ1ouWkU</td>\n",
              "      <td>2020-06-23 19:54:41+00:00</td>\n",
              "      <td>Getting Curious: What it takes to build a TPU ...</td>\n",
              "      <td>Have you ever wondered what kind of background...</td>\n",
              "      <td>28</td>\n",
              "      <td>Science &amp; Technology</td>\n",
              "      <td>PT7M18S</td>\n",
              "      <td>438</td>\n",
              "      <td>2d</td>\n",
              "      <td>hd</td>\n",
              "      <td>True</td>\n",
              "      <td>None</td>\n",
              "      <td>637</td>\n",
              "      <td>28</td>\n",
              "      <td>0</td>\n",
              "      <td>0</td>\n",
              "      <td>0</td>\n",
              "    </tr>\n",
              "    <tr>\n",
              "      <th>1</th>\n",
              "      <td>34</td>\n",
              "      <td>UCSNeZleDn9c74yQc-EKnVTA</td>\n",
              "      <td>Kaggle</td>\n",
              "      <td>1WB8DSnV6bY</td>\n",
              "      <td>2020-01-06 15:54:27+00:00</td>\n",
              "      <td>How to use Kernels and Forums to Win Kaggle Co...</td>\n",
              "      <td>Kaggle Days China edition was held on October ...</td>\n",
              "      <td>28</td>\n",
              "      <td>Science &amp; Technology</td>\n",
              "      <td>PT17M6S</td>\n",
              "      <td>1026</td>\n",
              "      <td>2d</td>\n",
              "      <td>hd</td>\n",
              "      <td>False</td>\n",
              "      <td>None</td>\n",
              "      <td>1418</td>\n",
              "      <td>28</td>\n",
              "      <td>0</td>\n",
              "      <td>0</td>\n",
              "      <td>0</td>\n",
              "    </tr>\n",
              "    <tr>\n",
              "      <th>2</th>\n",
              "      <td>40</td>\n",
              "      <td>UCSNeZleDn9c74yQc-EKnVTA</td>\n",
              "      <td>Kaggle</td>\n",
              "      <td>LDrhLfl012w</td>\n",
              "      <td>2019-12-20 18:55:30+00:00</td>\n",
              "      <td>Kaggle Live Coding: Fuzzy Matching for Spellin...</td>\n",
              "      <td>This week we'll be working on using fuzzy matc...</td>\n",
              "      <td>28</td>\n",
              "      <td>Science &amp; Technology</td>\n",
              "      <td>PT1H12M24S</td>\n",
              "      <td>744</td>\n",
              "      <td>2d</td>\n",
              "      <td>hd</td>\n",
              "      <td>False</td>\n",
              "      <td>None</td>\n",
              "      <td>2709</td>\n",
              "      <td>86</td>\n",
              "      <td>0</td>\n",
              "      <td>0</td>\n",
              "      <td>0</td>\n",
              "    </tr>\n",
              "    <tr>\n",
              "      <th>3</th>\n",
              "      <td>44</td>\n",
              "      <td>UCSNeZleDn9c74yQc-EKnVTA</td>\n",
              "      <td>Kaggle</td>\n",
              "      <td>LpRbOzNshNA</td>\n",
              "      <td>2019-12-11 18:41:46+00:00</td>\n",
              "      <td>Kaggle Reading Group: On NMT Search Errors and...</td>\n",
              "      <td>This week we'll be starting a new paper: \"On N...</td>\n",
              "      <td>28</td>\n",
              "      <td>Science &amp; Technology</td>\n",
              "      <td>PT1H4M58S</td>\n",
              "      <td>298</td>\n",
              "      <td>2d</td>\n",
              "      <td>hd</td>\n",
              "      <td>False</td>\n",
              "      <td>None</td>\n",
              "      <td>979</td>\n",
              "      <td>36</td>\n",
              "      <td>0</td>\n",
              "      <td>0</td>\n",
              "      <td>0</td>\n",
              "    </tr>\n",
              "    <tr>\n",
              "      <th>4</th>\n",
              "      <td>63</td>\n",
              "      <td>UCSNeZleDn9c74yQc-EKnVTA</td>\n",
              "      <td>Kaggle</td>\n",
              "      <td>kDzEZihQFig</td>\n",
              "      <td>2019-10-11 18:00:52+00:00</td>\n",
              "      <td>Kaggle Live Coding: Automating report generati...</td>\n",
              "      <td>This week Rachael will continue to work on her...</td>\n",
              "      <td>28</td>\n",
              "      <td>Science &amp; Technology</td>\n",
              "      <td>PT1H20M56S</td>\n",
              "      <td>1256</td>\n",
              "      <td>2d</td>\n",
              "      <td>hd</td>\n",
              "      <td>False</td>\n",
              "      <td>None</td>\n",
              "      <td>1976</td>\n",
              "      <td>69</td>\n",
              "      <td>0</td>\n",
              "      <td>0</td>\n",
              "      <td>0</td>\n",
              "    </tr>\n",
              "    <tr>\n",
              "      <th>...</th>\n",
              "      <td>...</td>\n",
              "      <td>...</td>\n",
              "      <td>...</td>\n",
              "      <td>...</td>\n",
              "      <td>...</td>\n",
              "      <td>...</td>\n",
              "      <td>...</td>\n",
              "      <td>...</td>\n",
              "      <td>...</td>\n",
              "      <td>...</td>\n",
              "      <td>...</td>\n",
              "      <td>...</td>\n",
              "      <td>...</td>\n",
              "      <td>...</td>\n",
              "      <td>...</td>\n",
              "      <td>...</td>\n",
              "      <td>...</td>\n",
              "      <td>...</td>\n",
              "      <td>...</td>\n",
              "      <td>...</td>\n",
              "    </tr>\n",
              "    <tr>\n",
              "      <th>311</th>\n",
              "      <td>127</td>\n",
              "      <td>UCSNeZleDn9c74yQc-EKnVTA</td>\n",
              "      <td>Kaggle</td>\n",
              "      <td>8lniZVqRLA0</td>\n",
              "      <td>2019-07-11 00:06:04+00:00</td>\n",
              "      <td>Interview with Abhishek Thakur | World's First...</td>\n",
              "      <td>Help us congratulate Kaggle's very first Tripl...</td>\n",
              "      <td>28</td>\n",
              "      <td>Science &amp; Technology</td>\n",
              "      <td>PT15M25S</td>\n",
              "      <td>925</td>\n",
              "      <td>2d</td>\n",
              "      <td>hd</td>\n",
              "      <td>False</td>\n",
              "      <td>None</td>\n",
              "      <td>52951</td>\n",
              "      <td>1587</td>\n",
              "      <td>19</td>\n",
              "      <td>0</td>\n",
              "      <td>61</td>\n",
              "    </tr>\n",
              "    <tr>\n",
              "      <th>312</th>\n",
              "      <td>104</td>\n",
              "      <td>UCSNeZleDn9c74yQc-EKnVTA</td>\n",
              "      <td>Kaggle</td>\n",
              "      <td>GJBOMWpLpTQ</td>\n",
              "      <td>2019-08-12 17:00:00+00:00</td>\n",
              "      <td>How to Enter a Kaggle Competition (using Kerne...</td>\n",
              "      <td>Ever wanted to try out Kaggle competitions but...</td>\n",
              "      <td>28</td>\n",
              "      <td>Science &amp; Technology</td>\n",
              "      <td>PT7M10S</td>\n",
              "      <td>430</td>\n",
              "      <td>2d</td>\n",
              "      <td>hd</td>\n",
              "      <td>False</td>\n",
              "      <td>None</td>\n",
              "      <td>50574</td>\n",
              "      <td>999</td>\n",
              "      <td>20</td>\n",
              "      <td>0</td>\n",
              "      <td>33</td>\n",
              "    </tr>\n",
              "    <tr>\n",
              "      <th>313</th>\n",
              "      <td>68</td>\n",
              "      <td>UCSNeZleDn9c74yQc-EKnVTA</td>\n",
              "      <td>Kaggle</td>\n",
              "      <td>8yZMXCaFshs</td>\n",
              "      <td>2019-09-30 18:05:19+00:00</td>\n",
              "      <td>How to Get Started with Kaggle’s Titanic Compe...</td>\n",
              "      <td>New to Kaggle? Our Titanic competition is a gr...</td>\n",
              "      <td>28</td>\n",
              "      <td>Science &amp; Technology</td>\n",
              "      <td>PT6M37S</td>\n",
              "      <td>397</td>\n",
              "      <td>2d</td>\n",
              "      <td>hd</td>\n",
              "      <td>False</td>\n",
              "      <td>None</td>\n",
              "      <td>126383</td>\n",
              "      <td>2630</td>\n",
              "      <td>40</td>\n",
              "      <td>0</td>\n",
              "      <td>61</td>\n",
              "    </tr>\n",
              "    <tr>\n",
              "      <th>314</th>\n",
              "      <td>109</td>\n",
              "      <td>UCSNeZleDn9c74yQc-EKnVTA</td>\n",
              "      <td>Kaggle</td>\n",
              "      <td>uWVR_axaVwk</td>\n",
              "      <td>2019-08-06 21:31:29+00:00</td>\n",
              "      <td>Approaching (almost) Any Machine Learning Prob...</td>\n",
              "      <td>Abhishek Thakur is the chief data scientist at...</td>\n",
              "      <td>28</td>\n",
              "      <td>Science &amp; Technology</td>\n",
              "      <td>PT45M54S</td>\n",
              "      <td>2754</td>\n",
              "      <td>2d</td>\n",
              "      <td>hd</td>\n",
              "      <td>False</td>\n",
              "      <td>None</td>\n",
              "      <td>18889</td>\n",
              "      <td>550</td>\n",
              "      <td>44</td>\n",
              "      <td>0</td>\n",
              "      <td>41</td>\n",
              "    </tr>\n",
              "    <tr>\n",
              "      <th>315</th>\n",
              "      <td>316</td>\n",
              "      <td>UCSNeZleDn9c74yQc-EKnVTA</td>\n",
              "      <td>Kaggle</td>\n",
              "      <td>xrhPjE7wHas</td>\n",
              "      <td>2018-03-20 18:22:28+00:00</td>\n",
              "      <td>How to Build a Compelling Data Science Portfol...</td>\n",
              "      <td>Learn how to craft and tailor your Data Scienc...</td>\n",
              "      <td>28</td>\n",
              "      <td>Science &amp; Technology</td>\n",
              "      <td>PT37M58S</td>\n",
              "      <td>2278</td>\n",
              "      <td>2d</td>\n",
              "      <td>hd</td>\n",
              "      <td>False</td>\n",
              "      <td>None</td>\n",
              "      <td>121844</td>\n",
              "      <td>2870</td>\n",
              "      <td>45</td>\n",
              "      <td>0</td>\n",
              "      <td>44</td>\n",
              "    </tr>\n",
              "  </tbody>\n",
              "</table>\n",
              "<p>316 rows × 20 columns</p>\n",
              "</div>"
            ],
            "text/plain": [
              "     position                channel_id  ... favorite_count comment_count\n",
              "0           4  UCSNeZleDn9c74yQc-EKnVTA  ...              0             0\n",
              "1          34  UCSNeZleDn9c74yQc-EKnVTA  ...              0             0\n",
              "2          40  UCSNeZleDn9c74yQc-EKnVTA  ...              0             0\n",
              "3          44  UCSNeZleDn9c74yQc-EKnVTA  ...              0             0\n",
              "4          63  UCSNeZleDn9c74yQc-EKnVTA  ...              0             0\n",
              "..        ...                       ...  ...            ...           ...\n",
              "311       127  UCSNeZleDn9c74yQc-EKnVTA  ...              0            61\n",
              "312       104  UCSNeZleDn9c74yQc-EKnVTA  ...              0            33\n",
              "313        68  UCSNeZleDn9c74yQc-EKnVTA  ...              0            61\n",
              "314       109  UCSNeZleDn9c74yQc-EKnVTA  ...              0            41\n",
              "315       316  UCSNeZleDn9c74yQc-EKnVTA  ...              0            44\n",
              "\n",
              "[316 rows x 20 columns]"
            ]
          },
          "metadata": {
            "tags": []
          },
          "execution_count": 6
        }
      ]
    },
    {
      "cell_type": "code",
      "metadata": {
        "colab": {
          "base_uri": "https://localhost:8080/"
        },
        "id": "21NAK8ZkeYg-",
        "outputId": "a7c947cd-9bee-4bdb-8ac1-ac186dafa3ff"
      },
      "source": [
        "analytics_test_import.columns"
      ],
      "execution_count": 7,
      "outputs": [
        {
          "output_type": "execute_result",
          "data": {
            "text/plain": [
              "Index(['position', 'channel_id', 'channel_title', 'video_id', 'published_at',\n",
              "       'video_title', 'video_description', 'video_category_id',\n",
              "       'video_category_label', 'duration', 'duration_sec', 'dimension',\n",
              "       'definition', 'caption', 'licensed_content', 'view_count', 'like_count',\n",
              "       'dislike_count', 'favorite_count', 'comment_count'],\n",
              "      dtype='object')"
            ]
          },
          "metadata": {
            "tags": []
          },
          "execution_count": 7
        }
      ]
    },
    {
      "cell_type": "markdown",
      "metadata": {
        "id": "Zk_YqR_ZFvg9"
      },
      "source": [
        "get just the columns we need and save it into one variable"
      ]
    },
    {
      "cell_type": "code",
      "metadata": {
        "id": "Iybfv6Q9FvIY"
      },
      "source": [
        "%%bigquery analytics_data_real\n",
        "SELECT\n",
        "    video_title,position,published_at\n",
        "FROM `whyzzer.kaggledata`"
      ],
      "execution_count": 8,
      "outputs": []
    },
    {
      "cell_type": "code",
      "metadata": {
        "id": "wEkGQY_BH7ne",
        "colab": {
          "base_uri": "https://localhost:8080/",
          "height": 204
        },
        "outputId": "51f17683-98ec-4569-e604-4097b4c9427a"
      },
      "source": [
        "analytics_data_real.head()"
      ],
      "execution_count": 9,
      "outputs": [
        {
          "output_type": "execute_result",
          "data": {
            "text/html": [
              "<div>\n",
              "<style scoped>\n",
              "    .dataframe tbody tr th:only-of-type {\n",
              "        vertical-align: middle;\n",
              "    }\n",
              "\n",
              "    .dataframe tbody tr th {\n",
              "        vertical-align: top;\n",
              "    }\n",
              "\n",
              "    .dataframe thead th {\n",
              "        text-align: right;\n",
              "    }\n",
              "</style>\n",
              "<table border=\"1\" class=\"dataframe\">\n",
              "  <thead>\n",
              "    <tr style=\"text-align: right;\">\n",
              "      <th></th>\n",
              "      <th>video_title</th>\n",
              "      <th>position</th>\n",
              "      <th>published_at</th>\n",
              "    </tr>\n",
              "  </thead>\n",
              "  <tbody>\n",
              "    <tr>\n",
              "      <th>0</th>\n",
              "      <td>Getting Curious: What it takes to build a TPU ...</td>\n",
              "      <td>4</td>\n",
              "      <td>2020-06-23 19:54:41+00:00</td>\n",
              "    </tr>\n",
              "    <tr>\n",
              "      <th>1</th>\n",
              "      <td>How to use Kernels and Forums to Win Kaggle Co...</td>\n",
              "      <td>34</td>\n",
              "      <td>2020-01-06 15:54:27+00:00</td>\n",
              "    </tr>\n",
              "    <tr>\n",
              "      <th>2</th>\n",
              "      <td>Kaggle Live Coding: Fuzzy Matching for Spellin...</td>\n",
              "      <td>40</td>\n",
              "      <td>2019-12-20 18:55:30+00:00</td>\n",
              "    </tr>\n",
              "    <tr>\n",
              "      <th>3</th>\n",
              "      <td>Kaggle Reading Group: On NMT Search Errors and...</td>\n",
              "      <td>44</td>\n",
              "      <td>2019-12-11 18:41:46+00:00</td>\n",
              "    </tr>\n",
              "    <tr>\n",
              "      <th>4</th>\n",
              "      <td>Kaggle Live Coding: Automating report generati...</td>\n",
              "      <td>63</td>\n",
              "      <td>2019-10-11 18:00:52+00:00</td>\n",
              "    </tr>\n",
              "  </tbody>\n",
              "</table>\n",
              "</div>"
            ],
            "text/plain": [
              "                                         video_title  ...              published_at\n",
              "0  Getting Curious: What it takes to build a TPU ...  ... 2020-06-23 19:54:41+00:00\n",
              "1  How to use Kernels and Forums to Win Kaggle Co...  ... 2020-01-06 15:54:27+00:00\n",
              "2  Kaggle Live Coding: Fuzzy Matching for Spellin...  ... 2019-12-20 18:55:30+00:00\n",
              "3  Kaggle Reading Group: On NMT Search Errors and...  ... 2019-12-11 18:41:46+00:00\n",
              "4  Kaggle Live Coding: Automating report generati...  ... 2019-10-11 18:00:52+00:00\n",
              "\n",
              "[5 rows x 3 columns]"
            ]
          },
          "metadata": {
            "tags": []
          },
          "execution_count": 9
        }
      ]
    },
    {
      "cell_type": "code",
      "metadata": {
        "id": "uH6X9j6tSdUr"
      },
      "source": [
        "analytics = analytics_data_real"
      ],
      "execution_count": 10,
      "outputs": []
    },
    {
      "cell_type": "markdown",
      "metadata": {
        "id": "W_5d-DlUSgpK"
      },
      "source": [
        "rename columns to match model entries"
      ]
    },
    {
      "cell_type": "code",
      "metadata": {
        "id": "AVXp0NWRSf0K"
      },
      "source": [
        "analytics.rename(columns={'video_title': 'movie_title', 'published_at': 'timestamp','position':'user_id'}, inplace=True)\n"
      ],
      "execution_count": 14,
      "outputs": []
    },
    {
      "cell_type": "markdown",
      "metadata": {
        "id": "v3VZ_3P1U8xj"
      },
      "source": [
        "Now we load our movielens model"
      ]
    },
    {
      "cell_type": "code",
      "metadata": {
        "id": "8dAjJtSpIV5j",
        "outputId": "bced62f5-04cc-47f0-976a-0cfca406642b",
        "colab": {
          "base_uri": "https://localhost:8080/"
        }
      },
      "source": [
        "MODEL_PATH ='/content/drive/MyDrive/Colab Notebooks/1629150301'\n",
        "model = tf.keras.models.load_model(MODEL_PATH )"
      ],
      "execution_count": 21,
      "outputs": [
        {
          "output_type": "stream",
          "text": [
            "WARNING:tensorflow:SavedModel saved prior to TF 2.5 detected when loading Keras model. Please ensure that you are saving the model with model.save() or tf.keras.models.save_model(), *NOT* tf.saved_model.save(). To confirm, there should be a file named \"keras_metadata.pb\" in the SavedModel directory.\n",
            "WARNING:tensorflow:From /usr/local/lib/python3.7/dist-packages/tensorflow/python/ops/parallel_for/pfor.py:2382: calling gather (from tensorflow.python.ops.array_ops) with validate_indices is deprecated and will be removed in a future version.\n",
            "Instructions for updating:\n",
            "The `validate_indices` argument has no effect. Indices are always validated on CPU and never validated on GPU.\n",
            "WARNING:tensorflow:Using a while_loop for converting BoostedTreesBucketize\n"
          ],
          "name": "stdout"
        }
      ]
    },
    {
      "cell_type": "code",
      "metadata": {
        "id": "e99FbZ9VJSO4",
        "outputId": "19075677-8c18-44bc-aad6-fde8471f0cf6",
        "colab": {
          "base_uri": "https://localhost:8080/"
        }
      },
      "source": [
        "model.summary()"
      ],
      "execution_count": 22,
      "outputs": [
        {
          "output_type": "stream",
          "text": [
            "Model: \"brute_force\"\n",
            "_________________________________________________________________\n",
            "Layer (type)                 Output Shape              Param #   \n",
            "=================================================================\n",
            "query_model (QueryModel)     multiple                  69548     \n",
            "_________________________________________________________________\n",
            "retrieval_1 (Retrieval)      multiple                  0         \n",
            "=================================================================\n",
            "Total params: 125,054\n",
            "Trainable params: 68,544\n",
            "Non-trainable params: 56,510\n",
            "_________________________________________________________________\n"
          ],
          "name": "stdout"
        }
      ]
    }
  ]
}